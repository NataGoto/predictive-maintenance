{
 "cells": [
  {
   "cell_type": "code",
   "execution_count": 2,
   "metadata": {},
   "outputs": [],
   "source": [
    "import sys\n",
    "sys.path.append('../data')"
   ]
  },
  {
   "cell_type": "code",
   "execution_count": 4,
   "metadata": {},
   "outputs": [],
   "source": [
    "import ALPI as alpi"
   ]
  },
  {
   "cell_type": "code",
   "execution_count": 6,
   "metadata": {},
   "outputs": [
    {
     "data": {
      "text/plain": [
       "[array([[ 98,  47,  40, ...,   0,   0,   0],\n",
       "        [ 25,  98,  45, ...,   0,   0,   0],\n",
       "        [  1,  45,  98, ...,   0,   0,   0],\n",
       "        ...,\n",
       "        [ 32,  31, 137, ...,   0,   0,   0],\n",
       "        [137,  26,  31, ...,   0,   0,   0],\n",
       "        [137,  29,  26, ...,   0,   0,   0]], dtype=int32),\n",
       " array([[ 25,  98,  45, ...,   0,   0,   0],\n",
       "        [ 31,  45,  11, ...,   0,   0,   0],\n",
       "        [ 26,  98,  26, ...,   0,   0,   0],\n",
       "        ...,\n",
       "        [137,  48, 137, ...,   0,   0,   0],\n",
       "        [137,  31,  26, ...,   0,   0,   0],\n",
       "        [ 29,  46,  29, ...,   0,   0,   0]], dtype=int32),\n",
       " array([17, 17, 17, ..., 11, 11, 11]),\n",
       " array([[ 98,  30,  98, ...,   0,   0,   0],\n",
       "        [ 29,  98, 128, ...,   0,   0,   0],\n",
       "        [ 98,  26,  29, ...,   0,   0,   0],\n",
       "        ...,\n",
       "        [113,  51, 137, ...,   0,   0,   0],\n",
       "        [113, 137, 138, ...,   0,   0,   0],\n",
       "        [122, 137, 139, ...,   0,   0,   0]], dtype=int32),\n",
       " array([[ 98,  29,  26, ...,   0,   0,   0],\n",
       "        [ 98,  26,  29, ...,   0,   0,   0],\n",
       "        [ 11,  98,  11, ...,   0,   0,   0],\n",
       "        ...,\n",
       "        [137,  48, 137, ...,   0,   0,   0],\n",
       "        [ 98,  31,  45, ...,   0,   0,   0],\n",
       "        [ 30, 137,  11, ...,   0,   0,   0]], dtype=int32),\n",
       " array([17, 17, 17, ..., 11, 11, 11])]"
      ]
     },
     "execution_count": 6,
     "metadata": {},
     "output_type": "execute_result"
    }
   ],
   "source": [
    "data = alpi.load_from_npz()\n",
    "data"
   ]
  },
  {
   "cell_type": "code",
   "execution_count": null,
   "metadata": {},
   "outputs": [],
   "source": []
  }
 ],
 "metadata": {
  "interpreter": {
   "hash": "16dbba425ba0731f581592bff1ceb33a70db2cdf9052cbf447b98983e28f2ced"
  },
  "kernelspec": {
   "display_name": "Python 3.9.7 64-bit ('survival': conda)",
   "name": "python3"
  },
  "language_info": {
   "codemirror_mode": {
    "name": "ipython",
    "version": 3
   },
   "file_extension": ".py",
   "mimetype": "text/x-python",
   "name": "python",
   "nbconvert_exporter": "python",
   "pygments_lexer": "ipython3",
   "version": "3.9.7"
  },
  "orig_nbformat": 4
 },
 "nbformat": 4,
 "nbformat_minor": 2
}
